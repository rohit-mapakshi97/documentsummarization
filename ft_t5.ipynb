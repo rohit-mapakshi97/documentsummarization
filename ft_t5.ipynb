{
 "cells": [
  {
   "cell_type": "code",
   "execution_count": null,
   "metadata": {},
   "outputs": [],
   "source": [
    "import pandas as pd \n",
    "from simplet5 import SimpleT5\n",
    "from rouge import Rouge"
   ]
  },
  {
   "cell_type": "code",
   "execution_count": null,
   "metadata": {},
   "outputs": [],
   "source": [
    "df = pd.read_csv('./data/prepocessed.csv', delimiter=',',\n",
    "                 engine='python', error_bad_lines=False, nrows=3000)\n",
    "\n",
    "print(df.info())\n",
    "\n",
    "drop_cols = ['overview', 'sectionLabel', 'title']\n",
    "df = df.drop(drop_cols, axis=1)\n",
    "df = df.dropna()\n",
    "\n",
    "df.rename(columns={\"headline\":\"target_text\", \"text\": \"source_text\"}, inplace= True)\n",
    "print(df.info())\n",
    "\n",
    "# T5 model expects a task related prefix: since it is a summarization task, we have to add prefix \"summarize: \"\n",
    "df['source_text'] = \"summarize: \" + df['source_text']\n",
    "print(df.head(1)['source_text'])"
   ]
  },
  {
   "cell_type": "code",
   "execution_count": null,
   "metadata": {},
   "outputs": [],
   "source": [
    "# Train, Test, Val split (60, 20, 20)\n",
    "train_data = df.sample(frac=0.60) #60%\n",
    "rest_part_40 = df.drop(train_data.index)\n",
    "test_data = rest_part_40.sample(frac=0.50) #20%\n",
    "validation_data = rest_part_40.drop(test_data.index) #20%\n",
    "print(\"Shapes: \", train_data.shape, validation_data.shape, test_data.shape)\n"
   ]
  },
  {
   "cell_type": "code",
   "execution_count": null,
   "metadata": {},
   "outputs": [],
   "source": [
    "# Finetuning T5 model\n",
    "model = SimpleT5()\n",
    "model.from_pretrained(model_type=\"t5\", model_name=\"t5-base\")\n",
    "\n",
    "model.train(train_df=train_data,\n",
    "            eval_df=validation_data,\n",
    "            source_max_token_len=150,\n",
    "            target_max_token_len=64,\n",
    "            outputdir = \"./models/\",\n",
    "            max_epochs=3, use_gpu=False)"
   ]
  },
  {
   "cell_type": "code",
   "execution_count": null,
   "metadata": {},
   "outputs": [],
   "source": [
    "model_t5 = SimpleT5()\n",
    "model_t5.load_model(\"t5\",\"./models/simplet5-epoch-0-train-loss-2.7284-val-loss-2.2741\", use_gpu=False)"
   ]
  },
  {
   "cell_type": "code",
   "execution_count": null,
   "metadata": {},
   "outputs": [],
   "source": [
    "\n",
    "\n",
    "def predict_summary(row):\n",
    "    input_text = row[\"source_text\"] # assuming your DataFrame column is named \"input_text\"\n",
    "    summary = model_t5.predict(input_text, max_length=512)\n",
    "    return summary\n",
    "test_data[\"predicted_summary\"] = df.apply(predict_summary, axis=1)\n",
    "df = df.dropna()\n",
    "# print(type(test_data[\"predicted_summary\"]))\n",
    "rouge = Rouge()\n",
    "scores = rouge.get_scores(test_data[\"target_text\"], test_data[\"predicted_summary\"])\n",
    "print(scores)\n",
    "\n"
   ]
  },
  {
   "cell_type": "code",
   "execution_count": null,
   "metadata": {},
   "outputs": [],
   "source": [
    "# predicted_series = pd.Series(['The cat in the hat.', 'I like green eggs and ham.'])\n",
    "# reference_series = pd.Series(['The cat in the hat is good.', 'I do not like them, Sam-I-Am.'])\n",
    "\n",
    "# # Create a Rouge instance\n",
    "# rouge = Rouge()\n",
    "\n",
    "# # Get the ROUGE-1 F1 score for the first document in the series\n",
    "# scores = rouge.get_scores(predicted_series, reference_series)\n",
    "# print(scores)"
   ]
  }
 ],
 "metadata": {
  "kernelspec": {
   "display_name": "Python 3",
   "language": "python",
   "name": "python3"
  },
  "language_info": {
   "codemirror_mode": {
    "name": "ipython",
    "version": 3
   },
   "file_extension": ".py",
   "mimetype": "text/x-python",
   "name": "python",
   "nbconvert_exporter": "python",
   "pygments_lexer": "ipython3",
   "version": "3.8.10"
  },
  "orig_nbformat": 4
 },
 "nbformat": 4,
 "nbformat_minor": 2
}
